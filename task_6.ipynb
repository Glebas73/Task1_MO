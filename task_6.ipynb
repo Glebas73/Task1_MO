{
 "cells": [
  {
   "cell_type": "code",
   "execution_count": 76,
   "id": "061cded5",
   "metadata": {},
   "outputs": [],
   "source": [
    "import pandas as pd\n",
    "import numpy as np\n",
    "import matplotlib.pyplot as plt\n",
    "%matplotlib inline\n",
    "import seaborn as sns\n",
    "import string\n",
    "import re\n",
    "\n",
    "import warnings\n",
    "warnings.filterwarnings(\"ignore\")\n",
    "Z = pd.read_csv('.\\SMSSpamCollection.csv')"
   ]
  },
  {
   "cell_type": "code",
   "execution_count": 77,
   "id": "c3aa5a12",
   "metadata": {},
   "outputs": [
    {
     "data": {
      "text/html": [
       "<div>\n",
       "<style scoped>\n",
       "    .dataframe tbody tr th:only-of-type {\n",
       "        vertical-align: middle;\n",
       "    }\n",
       "\n",
       "    .dataframe tbody tr th {\n",
       "        vertical-align: top;\n",
       "    }\n",
       "\n",
       "    .dataframe thead th {\n",
       "        text-align: right;\n",
       "    }\n",
       "</style>\n",
       "<table border=\"1\" class=\"dataframe\">\n",
       "  <thead>\n",
       "    <tr style=\"text-align: right;\">\n",
       "      <th></th>\n",
       "      <th>target</th>\n",
       "      <th>text</th>\n",
       "    </tr>\n",
       "  </thead>\n",
       "  <tbody>\n",
       "    <tr>\n",
       "      <th>0</th>\n",
       "      <td>ham</td>\n",
       "      <td>Go until jurong point</td>\n",
       "    </tr>\n",
       "    <tr>\n",
       "      <th>1</th>\n",
       "      <td>ham</td>\n",
       "      <td>Ok lar... Joking wif u oni...</td>\n",
       "    </tr>\n",
       "    <tr>\n",
       "      <th>2</th>\n",
       "      <td>spam</td>\n",
       "      <td>Free entry in 2 a wkly comp to win FA Cup fina...</td>\n",
       "    </tr>\n",
       "    <tr>\n",
       "      <th>3</th>\n",
       "      <td>ham</td>\n",
       "      <td>U dun say so early hor... U c already then say...</td>\n",
       "    </tr>\n",
       "    <tr>\n",
       "      <th>4</th>\n",
       "      <td>ham</td>\n",
       "      <td>Nah I don't think he goes to usf</td>\n",
       "    </tr>\n",
       "    <tr>\n",
       "      <th>5</th>\n",
       "      <td>spam</td>\n",
       "      <td>FreeMsg Hey there darling it's been 3 week's n...</td>\n",
       "    </tr>\n",
       "    <tr>\n",
       "      <th>6</th>\n",
       "      <td>ham</td>\n",
       "      <td>Even my brother is not like to speak with me. ...</td>\n",
       "    </tr>\n",
       "    <tr>\n",
       "      <th>7</th>\n",
       "      <td>ham</td>\n",
       "      <td>As per your request 'Melle Melle (Oru Minnamin...</td>\n",
       "    </tr>\n",
       "    <tr>\n",
       "      <th>8</th>\n",
       "      <td>spam</td>\n",
       "      <td>WINNER!! As a valued network customer you have...</td>\n",
       "    </tr>\n",
       "    <tr>\n",
       "      <th>9</th>\n",
       "      <td>spam</td>\n",
       "      <td>Had your mobile 11 months or more? U R entitle...</td>\n",
       "    </tr>\n",
       "  </tbody>\n",
       "</table>\n",
       "</div>"
      ],
      "text/plain": [
       "  target                                               text\n",
       "0    ham                              Go until jurong point\n",
       "1    ham                      Ok lar... Joking wif u oni...\n",
       "2   spam  Free entry in 2 a wkly comp to win FA Cup fina...\n",
       "3    ham  U dun say so early hor... U c already then say...\n",
       "4    ham                   Nah I don't think he goes to usf\n",
       "5   spam  FreeMsg Hey there darling it's been 3 week's n...\n",
       "6    ham  Even my brother is not like to speak with me. ...\n",
       "7    ham  As per your request 'Melle Melle (Oru Minnamin...\n",
       "8   spam  WINNER!! As a valued network customer you have...\n",
       "9   spam  Had your mobile 11 months or more? U R entitle..."
      ]
     },
     "execution_count": 77,
     "metadata": {},
     "output_type": "execute_result"
    }
   ],
   "source": [
    "Z.head(10)"
   ]
  },
  {
   "cell_type": "code",
   "execution_count": 78,
   "id": "851cebdf",
   "metadata": {},
   "outputs": [
    {
     "data": {
      "text/plain": [
       "5548"
      ]
     },
     "execution_count": 78,
     "metadata": {},
     "output_type": "execute_result"
    }
   ],
   "source": [
    "Z[\"text\"].count()"
   ]
  },
  {
   "cell_type": "code",
   "execution_count": 79,
   "id": "b69663a3",
   "metadata": {},
   "outputs": [
    {
     "data": {
      "text/plain": [
       "array(['ham', 'spam', 'target'], dtype=object)"
      ]
     },
     "execution_count": 79,
     "metadata": {},
     "output_type": "execute_result"
    }
   ],
   "source": [
    "Z.target.unique()"
   ]
  },
  {
   "cell_type": "code",
   "execution_count": 80,
   "id": "a8b6c9cf",
   "metadata": {},
   "outputs": [],
   "source": [
    "y=Z[\"target\"]\n",
    "X=pd.DataFrame(Z['text'])\n"
   ]
  },
  {
   "cell_type": "code",
   "execution_count": 81,
   "id": "7372af46",
   "metadata": {},
   "outputs": [
    {
     "data": {
      "text/html": [
       "<div>\n",
       "<style scoped>\n",
       "    .dataframe tbody tr th:only-of-type {\n",
       "        vertical-align: middle;\n",
       "    }\n",
       "\n",
       "    .dataframe tbody tr th {\n",
       "        vertical-align: top;\n",
       "    }\n",
       "\n",
       "    .dataframe thead th {\n",
       "        text-align: right;\n",
       "    }\n",
       "</style>\n",
       "<table border=\"1\" class=\"dataframe\">\n",
       "  <thead>\n",
       "    <tr style=\"text-align: right;\">\n",
       "      <th></th>\n",
       "      <th>text</th>\n",
       "    </tr>\n",
       "  </thead>\n",
       "  <tbody>\n",
       "    <tr>\n",
       "      <th>0</th>\n",
       "      <td>Go until jurong point</td>\n",
       "    </tr>\n",
       "    <tr>\n",
       "      <th>1</th>\n",
       "      <td>Ok lar... Joking wif u oni...</td>\n",
       "    </tr>\n",
       "    <tr>\n",
       "      <th>2</th>\n",
       "      <td>Free entry in 2 a wkly comp to win FA Cup fina...</td>\n",
       "    </tr>\n",
       "    <tr>\n",
       "      <th>3</th>\n",
       "      <td>U dun say so early hor... U c already then say...</td>\n",
       "    </tr>\n",
       "    <tr>\n",
       "      <th>4</th>\n",
       "      <td>Nah I don't think he goes to usf</td>\n",
       "    </tr>\n",
       "    <tr>\n",
       "      <th>...</th>\n",
       "      <td>...</td>\n",
       "    </tr>\n",
       "    <tr>\n",
       "      <th>5547</th>\n",
       "      <td>This is the 2nd time we have tried 2 contact u...</td>\n",
       "    </tr>\n",
       "    <tr>\n",
       "      <th>5548</th>\n",
       "      <td>Will ü b going to esplanade fr home?</td>\n",
       "    </tr>\n",
       "    <tr>\n",
       "      <th>5549</th>\n",
       "      <td>Pity</td>\n",
       "    </tr>\n",
       "    <tr>\n",
       "      <th>5550</th>\n",
       "      <td>The guy did some bitching but I acted like i'd...</td>\n",
       "    </tr>\n",
       "    <tr>\n",
       "      <th>5551</th>\n",
       "      <td>Rofl. Its true to its name</td>\n",
       "    </tr>\n",
       "  </tbody>\n",
       "</table>\n",
       "<p>5552 rows × 1 columns</p>\n",
       "</div>"
      ],
      "text/plain": [
       "                                                   text\n",
       "0                                 Go until jurong point\n",
       "1                         Ok lar... Joking wif u oni...\n",
       "2     Free entry in 2 a wkly comp to win FA Cup fina...\n",
       "3     U dun say so early hor... U c already then say...\n",
       "4                      Nah I don't think he goes to usf\n",
       "...                                                 ...\n",
       "5547  This is the 2nd time we have tried 2 contact u...\n",
       "5548               Will ü b going to esplanade fr home?\n",
       "5549                                               Pity\n",
       "5550  The guy did some bitching but I acted like i'd...\n",
       "5551                         Rofl. Its true to its name\n",
       "\n",
       "[5552 rows x 1 columns]"
      ]
     },
     "execution_count": 81,
     "metadata": {},
     "output_type": "execute_result"
    }
   ],
   "source": [
    "X"
   ]
  },
  {
   "cell_type": "markdown",
   "id": "ec525ead",
   "metadata": {},
   "source": [
    "Обработка текстов"
   ]
  },
  {
   "cell_type": "code",
   "execution_count": 82,
   "id": "c8dd41f4",
   "metadata": {},
   "outputs": [],
   "source": [
    "\n",
    "import nltk\n",
    "from nltk.corpus import stopwords\n",
    "from nltk.tokenize import word_tokenize"
   ]
  },
  {
   "cell_type": "code",
   "execution_count": 83,
   "id": "35f71fe6",
   "metadata": {},
   "outputs": [
    {
     "name": "stderr",
     "output_type": "stream",
     "text": [
      "[nltk_data] Downloading package punkt to\n",
      "[nltk_data]     C:\\Users\\glebb\\AppData\\Roaming\\nltk_data...\n",
      "[nltk_data]   Package punkt is already up-to-date!\n",
      "[nltk_data] Downloading package stopwords to\n",
      "[nltk_data]     C:\\Users\\glebb\\AppData\\Roaming\\nltk_data...\n",
      "[nltk_data]   Package stopwords is already up-to-date!\n"
     ]
    },
    {
     "data": {
      "text/plain": [
       "True"
      ]
     },
     "execution_count": 83,
     "metadata": {},
     "output_type": "execute_result"
    }
   ],
   "source": [
    "nltk.download('punkt')\n",
    "nltk.download('stopwords')"
   ]
  },
  {
   "cell_type": "code",
   "execution_count": 88,
   "id": "239c1996",
   "metadata": {},
   "outputs": [],
   "source": [
    "stop = stopwords.words('english')"
   ]
  },
  {
   "cell_type": "code",
   "execution_count": 89,
   "id": "7771adf2",
   "metadata": {},
   "outputs": [
    {
     "name": "stdout",
     "output_type": "stream",
     "text": [
      "i me my myself we our ours ourselves you you're you've you'll you'd your yours yourself yourselves he him his\n"
     ]
    }
   ],
   "source": [
    "print (' '.join(stopwords.words('english')[:20]))"
   ]
  },
  {
   "cell_type": "code",
   "execution_count": 90,
   "id": "8645be7d",
   "metadata": {},
   "outputs": [],
   "source": [
    "import tqdm"
   ]
  },
  {
   "cell_type": "code",
   "execution_count": 91,
   "id": "134ca4a5",
   "metadata": {},
   "outputs": [],
   "source": [
    "# Функция обработки текста \n",
    "def preprocess_text(texts):\n",
    "    stop_words = set(stopwords.words('english'))\n",
    "    regex = re.compile('[^a-z A-Z]')\n",
    "    #regex = re.compile('[^а-я А-Я]')\n",
    "    preprocess_texts = []\n",
    "    for i in  tqdm.tqdm(range(len(texts))):\n",
    "    #for i in  range(len(texts)):\n",
    "        text = texts[i].lower()\n",
    "        text = regex.sub(' ', text)\n",
    "        word_tokens = word_tokenize(text) \n",
    "        filtered_sentence = [w for w in word_tokens if not w in stop_words] \n",
    "        preprocess_texts.append( ' '.join(filtered_sentence))\n",
    "    \n",
    "    return preprocess_texts"
   ]
  },
  {
   "cell_type": "code",
   "execution_count": 92,
   "id": "0c383dc4",
   "metadata": {},
   "outputs": [],
   "source": [
    "def stemming_texts(texts):\n",
    "    st = nltk.stem.snowball.EnglishStemmer('english')\n",
    "    stem_text = []\n",
    "    for text in tqdm.tqdm(texts):\n",
    "        word_tokens = word_tokenize(text)\n",
    "        stem_text.append(' '.join([st.stem(word) for word in word_tokens]))\n",
    "    return stem_text"
   ]
  },
  {
   "cell_type": "code",
   "execution_count": 93,
   "id": "4f0404cd",
   "metadata": {},
   "outputs": [
    {
     "data": {
      "text/plain": [
       "text    0\n",
       "dtype: int64"
      ]
     },
     "execution_count": 93,
     "metadata": {},
     "output_type": "execute_result"
    }
   ],
   "source": [
    "X = X.fillna(\"s\")\n",
    "X.isnull().sum()"
   ]
  },
  {
   "cell_type": "code",
   "execution_count": 95,
   "id": "e78a036f",
   "metadata": {},
   "outputs": [
    {
     "data": {
      "text/html": [
       "<div>\n",
       "<style scoped>\n",
       "    .dataframe tbody tr th:only-of-type {\n",
       "        vertical-align: middle;\n",
       "    }\n",
       "\n",
       "    .dataframe tbody tr th {\n",
       "        vertical-align: top;\n",
       "    }\n",
       "\n",
       "    .dataframe thead th {\n",
       "        text-align: right;\n",
       "    }\n",
       "</style>\n",
       "<table border=\"1\" class=\"dataframe\">\n",
       "  <thead>\n",
       "    <tr style=\"text-align: right;\">\n",
       "      <th></th>\n",
       "      <th>text</th>\n",
       "    </tr>\n",
       "  </thead>\n",
       "  <tbody>\n",
       "    <tr>\n",
       "      <th>0</th>\n",
       "      <td>Go until jurong point</td>\n",
       "    </tr>\n",
       "    <tr>\n",
       "      <th>1</th>\n",
       "      <td>Ok lar... Joking wif u oni...</td>\n",
       "    </tr>\n",
       "    <tr>\n",
       "      <th>2</th>\n",
       "      <td>Free entry in 2 a wkly comp to win FA Cup fina...</td>\n",
       "    </tr>\n",
       "    <tr>\n",
       "      <th>3</th>\n",
       "      <td>U dun say so early hor... U c already then say...</td>\n",
       "    </tr>\n",
       "    <tr>\n",
       "      <th>4</th>\n",
       "      <td>Nah I don't think he goes to usf</td>\n",
       "    </tr>\n",
       "    <tr>\n",
       "      <th>5</th>\n",
       "      <td>FreeMsg Hey there darling it's been 3 week's n...</td>\n",
       "    </tr>\n",
       "    <tr>\n",
       "      <th>6</th>\n",
       "      <td>Even my brother is not like to speak with me. ...</td>\n",
       "    </tr>\n",
       "    <tr>\n",
       "      <th>7</th>\n",
       "      <td>As per your request 'Melle Melle (Oru Minnamin...</td>\n",
       "    </tr>\n",
       "    <tr>\n",
       "      <th>8</th>\n",
       "      <td>WINNER!! As a valued network customer you have...</td>\n",
       "    </tr>\n",
       "    <tr>\n",
       "      <th>9</th>\n",
       "      <td>Had your mobile 11 months or more? U R entitle...</td>\n",
       "    </tr>\n",
       "  </tbody>\n",
       "</table>\n",
       "</div>"
      ],
      "text/plain": [
       "                                                text\n",
       "0                              Go until jurong point\n",
       "1                      Ok lar... Joking wif u oni...\n",
       "2  Free entry in 2 a wkly comp to win FA Cup fina...\n",
       "3  U dun say so early hor... U c already then say...\n",
       "4                   Nah I don't think he goes to usf\n",
       "5  FreeMsg Hey there darling it's been 3 week's n...\n",
       "6  Even my brother is not like to speak with me. ...\n",
       "7  As per your request 'Melle Melle (Oru Minnamin...\n",
       "8  WINNER!! As a valued network customer you have...\n",
       "9  Had your mobile 11 months or more? U R entitle..."
      ]
     },
     "execution_count": 95,
     "metadata": {},
     "output_type": "execute_result"
    }
   ],
   "source": [
    "X.head(10)"
   ]
  },
  {
   "cell_type": "code",
   "execution_count": 96,
   "id": "1c7bff78",
   "metadata": {},
   "outputs": [
    {
     "name": "stderr",
     "output_type": "stream",
     "text": [
      "100%|████████████████████████████████████████████████████████████████████████████| 5552/5552 [00:00<00:00, 9037.11it/s]\n"
     ]
    }
   ],
   "source": [
    "X['text'] = preprocess_text(X['text'])"
   ]
  },
  {
   "cell_type": "code",
   "execution_count": 26,
   "id": "df019d3c",
   "metadata": {},
   "outputs": [
    {
     "name": "stderr",
     "output_type": "stream",
     "text": [
      "100%|████████████████████████████████████████████████████████████████████████████| 5552/5552 [00:00<00:00, 5926.28it/s]\n"
     ]
    }
   ],
   "source": [
    "X['text'] = stemming_texts(X['text'])"
   ]
  },
  {
   "cell_type": "code",
   "execution_count": 97,
   "id": "53ec3b3e",
   "metadata": {},
   "outputs": [
    {
     "data": {
      "text/html": [
       "<div>\n",
       "<style scoped>\n",
       "    .dataframe tbody tr th:only-of-type {\n",
       "        vertical-align: middle;\n",
       "    }\n",
       "\n",
       "    .dataframe tbody tr th {\n",
       "        vertical-align: top;\n",
       "    }\n",
       "\n",
       "    .dataframe thead th {\n",
       "        text-align: right;\n",
       "    }\n",
       "</style>\n",
       "<table border=\"1\" class=\"dataframe\">\n",
       "  <thead>\n",
       "    <tr style=\"text-align: right;\">\n",
       "      <th></th>\n",
       "      <th>text</th>\n",
       "    </tr>\n",
       "  </thead>\n",
       "  <tbody>\n",
       "    <tr>\n",
       "      <th>0</th>\n",
       "      <td>go jurong point</td>\n",
       "    </tr>\n",
       "    <tr>\n",
       "      <th>1</th>\n",
       "      <td>ok lar joking wif u oni</td>\n",
       "    </tr>\n",
       "    <tr>\n",
       "      <th>2</th>\n",
       "      <td>free entry wkly comp win fa cup final tkts st ...</td>\n",
       "    </tr>\n",
       "    <tr>\n",
       "      <th>3</th>\n",
       "      <td>u dun say early hor u c already say</td>\n",
       "    </tr>\n",
       "    <tr>\n",
       "      <th>4</th>\n",
       "      <td>nah think goes usf</td>\n",
       "    </tr>\n",
       "    <tr>\n",
       "      <th>5</th>\n",
       "      <td>freemsg hey darling week word back like fun st...</td>\n",
       "    </tr>\n",
       "    <tr>\n",
       "      <th>6</th>\n",
       "      <td>even brother like speak treat like aids patent</td>\n",
       "    </tr>\n",
       "    <tr>\n",
       "      <th>7</th>\n",
       "      <td>per request melle melle oru minnaminunginte nu...</td>\n",
       "    </tr>\n",
       "    <tr>\n",
       "      <th>8</th>\n",
       "      <td>winner valued network customer selected receiv...</td>\n",
       "    </tr>\n",
       "    <tr>\n",
       "      <th>9</th>\n",
       "      <td>mobile months u r entitled update latest colou...</td>\n",
       "    </tr>\n",
       "  </tbody>\n",
       "</table>\n",
       "</div>"
      ],
      "text/plain": [
       "                                                text\n",
       "0                                    go jurong point\n",
       "1                            ok lar joking wif u oni\n",
       "2  free entry wkly comp win fa cup final tkts st ...\n",
       "3                u dun say early hor u c already say\n",
       "4                                 nah think goes usf\n",
       "5  freemsg hey darling week word back like fun st...\n",
       "6     even brother like speak treat like aids patent\n",
       "7  per request melle melle oru minnaminunginte nu...\n",
       "8  winner valued network customer selected receiv...\n",
       "9  mobile months u r entitled update latest colou..."
      ]
     },
     "execution_count": 97,
     "metadata": {},
     "output_type": "execute_result"
    }
   ],
   "source": [
    "X.head(10)"
   ]
  },
  {
   "cell_type": "code",
   "execution_count": 98,
   "id": "788e10a5",
   "metadata": {},
   "outputs": [],
   "source": [
    "X=X.text"
   ]
  },
  {
   "cell_type": "code",
   "execution_count": 30,
   "id": "a800f390",
   "metadata": {},
   "outputs": [],
   "source": [
    "from sklearn.feature_extraction.text import TfidfVectorizer\n",
    "tf_vectorizer = TfidfVectorizer(stop_words=stop, ngram_range=(1, 2), min_df=0.001, norm=None)"
   ]
  },
  {
   "cell_type": "code",
   "execution_count": 31,
   "id": "53856d48",
   "metadata": {},
   "outputs": [],
   "source": [
    "#Разбиваем на тестовую и обучающие выборки\n",
    "from sklearn.model_selection import train_test_split\n",
    "Xtr, Xval, ytr, yval = train_test_split(X, y, test_size=0.30, random_state=42)"
   ]
  },
  {
   "cell_type": "code",
   "execution_count": 32,
   "id": "3938c942",
   "metadata": {},
   "outputs": [],
   "source": [
    "Xtr_tfidf = tf_vectorizer.fit_transform(Xtr)\n",
    "Xval_tfidf = tf_vectorizer.transform(Xval)"
   ]
  },
  {
   "cell_type": "code",
   "execution_count": 33,
   "id": "2c8bddab",
   "metadata": {},
   "outputs": [
    {
     "data": {
      "text/plain": [
       "((3886, 1634), (1666, 1634))"
      ]
     },
     "execution_count": 33,
     "metadata": {},
     "output_type": "execute_result"
    }
   ],
   "source": [
    "Xtr_tfidf.shape, Xval_tfidf.shape"
   ]
  },
  {
   "cell_type": "code",
   "execution_count": 34,
   "id": "66723db2",
   "metadata": {},
   "outputs": [
    {
     "data": {
      "text/plain": [
       "(3886, 1634)"
      ]
     },
     "execution_count": 34,
     "metadata": {},
     "output_type": "execute_result"
    }
   ],
   "source": [
    "Xtr_tfidf[:,].shape"
   ]
  },
  {
   "cell_type": "code",
   "execution_count": 35,
   "id": "fde8330c",
   "metadata": {},
   "outputs": [
    {
     "data": {
      "text/plain": [
       "(3886, 1634)"
      ]
     },
     "execution_count": 35,
     "metadata": {},
     "output_type": "execute_result"
    }
   ],
   "source": [
    "Xtr_tfidf.shape"
   ]
  },
  {
   "cell_type": "markdown",
   "id": "ae8b85db",
   "metadata": {},
   "source": [
    "Методы логистической регрессии к нашим данным"
   ]
  },
  {
   "cell_type": "code",
   "execution_count": 38,
   "id": "9de42f1a",
   "metadata": {},
   "outputs": [],
   "source": [
    "from sklearn.linear_model import SGDClassifier, LogisticRegressionCV\n",
    "from sklearn.model_selection import StratifiedKFold, train_test_split, RandomizedSearchCV\n",
    "from sklearn.metrics import classification_report, confusion_matrix, accuracy_score"
   ]
  },
  {
   "cell_type": "code",
   "execution_count": 40,
   "id": "da512b7c",
   "metadata": {},
   "outputs": [],
   "source": [
    "logit_sgd = SGDClassifier(\n",
    "    loss='log', \n",
    "    shuffle=True, \n",
    "    n_iter_no_change=10, \n",
    "    max_iter=500, \n",
    "    penalty='l2', \n",
    "    random_state=42\n",
    ")"
   ]
  },
  {
   "cell_type": "code",
   "execution_count": 41,
   "id": "ec42fadc",
   "metadata": {},
   "outputs": [
    {
     "name": "stdout",
     "output_type": "stream",
     "text": [
      "train accuracy= 0.9948533196088523\n",
      "validation accuracy= 0.975390156062425\n",
      "              precision    recall  f1-score   support\n",
      "\n",
      "         ham       0.99      0.98      0.99      1471\n",
      "        spam       0.87      0.93      0.90       195\n",
      "\n",
      "    accuracy                           0.98      1666\n",
      "   macro avg       0.93      0.96      0.94      1666\n",
      "weighted avg       0.98      0.98      0.98      1666\n",
      "\n"
     ]
    }
   ],
   "source": [
    "logit_sgd.fit(Xtr_tfidf, ytr)\n",
    "\n",
    "print(\"train accuracy=\", accuracy_score(logit_sgd.predict(Xtr_tfidf), ytr))\n",
    "print(\"validation accuracy=\",accuracy_score(logit_sgd.predict(Xval_tfidf), yval))\n",
    "\n",
    "print(classification_report(logit_sgd.predict(Xval_tfidf), yval))"
   ]
  },
  {
   "cell_type": "code",
   "execution_count": 43,
   "id": "6bc501a8",
   "metadata": {},
   "outputs": [
    {
     "data": {
      "text/plain": [
       "((3886, 1634), (3886,))"
      ]
     },
     "execution_count": 43,
     "metadata": {},
     "output_type": "execute_result"
    }
   ],
   "source": [
    "Xtr_tfidf.shape, ytr.shape"
   ]
  },
  {
   "cell_type": "code",
   "execution_count": 44,
   "id": "ef48ea32",
   "metadata": {},
   "outputs": [
    {
     "data": {
      "text/plain": [
       "LogisticRegressionCV(multi_class='ovr', n_jobs=-1)"
      ]
     },
     "execution_count": 44,
     "metadata": {},
     "output_type": "execute_result"
    }
   ],
   "source": [
    "logit_cv = LogisticRegressionCV(Cs=10, n_jobs=-1, multi_class='ovr')\n",
    "logit_cv.fit(Xtr_tfidf, ytr)"
   ]
  },
  {
   "cell_type": "code",
   "execution_count": 45,
   "id": "4d933c42",
   "metadata": {},
   "outputs": [
    {
     "name": "stdout",
     "output_type": "stream",
     "text": [
      "train accuracy= 0.9948533196088523\n",
      "validation accuracy= 0.9765906362545018\n",
      "              precision    recall  f1-score   support\n",
      "\n",
      "         ham       1.00      0.98      0.99      1483\n",
      "        spam       0.84      0.97      0.90       183\n",
      "\n",
      "    accuracy                           0.98      1666\n",
      "   macro avg       0.92      0.97      0.94      1666\n",
      "weighted avg       0.98      0.98      0.98      1666\n",
      "\n"
     ]
    }
   ],
   "source": [
    "print(\"train accuracy=\", accuracy_score(logit_cv.predict(Xtr_tfidf), ytr))\n",
    "print(\"validation accuracy=\", accuracy_score(logit_cv.predict(Xval_tfidf), yval))\n",
    "\n",
    "print(classification_report(logit_cv.predict(Xval_tfidf), yval))"
   ]
  },
  {
   "cell_type": "code",
   "execution_count": 46,
   "id": "13cf83d1",
   "metadata": {},
   "outputs": [],
   "source": [
    "def visualize_coefficients(coef, feature_names, title, plot_num, n_top_features=25):\n",
    "    interesting_coefficients = np.argsort(coef)[-n_top_features:]\n",
    "    \n",
    "    plt.figure(figsize=(15, 15))\n",
    "    plt.subplot(510+plot_num+1)\n",
    "    colors = [\"lightblue\" for c in coef[interesting_coefficients]]\n",
    "    plt.bar(np.arange(n_top_features), coef[interesting_coefficients], color=colors)\n",
    "    feature_names = np.array(feature_names)\n",
    "    plt.xticks(np.arange(1, 1 + n_top_features), \n",
    "               feature_names[interesting_coefficients], rotation=60, ha=\"right\", fontsize=14);\n",
    "    plt.title(title)"
   ]
  },
  {
   "cell_type": "code",
   "execution_count": 47,
   "id": "3cc88708",
   "metadata": {},
   "outputs": [
    {
     "data": {
      "text/plain": [
       "array([[ 4.26628000e-02,  2.54539459e-02,  5.09709469e-02, ...,\n",
       "         3.22768580e-02,  1.96371243e-01, -3.42469167e-02],\n",
       "       [-4.17372632e-02, -2.57982180e-02, -5.06842413e-02, ...,\n",
       "        -3.21032354e-02, -1.94121566e-01,  3.28793166e-02],\n",
       "       [-9.60808659e-07, -9.61858538e-07, -1.61187767e-06, ...,\n",
       "        -9.61014291e-07, -4.62326250e-06, -7.88146502e-07]])"
      ]
     },
     "execution_count": 47,
     "metadata": {},
     "output_type": "execute_result"
    }
   ],
   "source": [
    "logit_cv.coef_"
   ]
  },
  {
   "cell_type": "code",
   "execution_count": 56,
   "id": "2e11b903",
   "metadata": {},
   "outputs": [
    {
     "data": {
      "image/png": "[encoded data removed]",
      "text/plain": [
       "<Figure size 1080x1080 with 1 Axes>"
      ]
     },
     "metadata": {
      "needs_background": "light"
     },
     "output_type": "display_data"
    }
   ],
   "source": [
    "visualize_coefficients(logit_cv.coef_[0,:], tf_vectorizer.get_feature_names(),title=\"Positive\", plot_num=0, n_top_features=50)"
   ]
  },
  {
   "cell_type": "code",
   "execution_count": 59,
   "id": "11f7b499",
   "metadata": {},
   "outputs": [
    {
     "data": {
      "image/png": "[encoded data removed]",
      "text/plain": [
       "<Figure size 1080x1080 with 1 Axes>"
      ]
     },
     "metadata": {
      "needs_background": "light"
     },
     "output_type": "display_data"
    }
   ],
   "source": [
    "def visualize_coefficients_2(coef, feature_names, title, plot_num, n_top_features=50):\n",
    "    interesting_coefficients = np.argsort(coef)[0:n_top_features]\n",
    "    \n",
    "    plt.figure(figsize=(15, 15))\n",
    "    plt.subplot(510+plot_num+1)\n",
    "    colors = [\"lightblue\" for c in coef[interesting_coefficients]]\n",
    "    plt.bar(np.arange(n_top_features), coef[interesting_coefficients], color=colors)\n",
    "    feature_names = np.array(feature_names)\n",
    "    plt.xticks(np.arange(1, 1 + n_top_features), \n",
    "               feature_names[interesting_coefficients], rotation=60, ha=\"right\", fontsize=14);\n",
    "    plt.title(title)\n",
    "visualize_coefficients_2(logit_cv.coef_[0,:], tf_vectorizer.get_feature_names(),title=\"Negative\", plot_num=1, n_top_features=50)"
   ]
  }
 ],
 "metadata": {
  "kernelspec": {
   "display_name": "Python 3 (ipykernel)",
   "language": "python",
   "name": "python3"
  },
  "language_info": {
   "codemirror_mode": {
    "name": "ipython",
    "version": 3
   },
   "file_extension": ".py",
   "mimetype": "text/x-python",
   "name": "python",
   "nbconvert_exporter": "python",
   "pygments_lexer": "ipython3",
   "version": "3.9.7"
  }
 },
 "nbformat": 4,
 "nbformat_minor": 5
}
